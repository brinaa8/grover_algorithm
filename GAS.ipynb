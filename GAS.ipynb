{
 "cells": [
  {
   "cell_type": "code",
   "execution_count": 3,
   "id": "a11556e6",
   "metadata": {},
   "outputs": [
    {
     "name": "stdout",
     "output_type": "stream",
     "text": [
      "Best solution found: [0, 0]\n",
      "Minimum cost: 0\n"
     ]
    }
   ],
   "source": [
    "from qiskit import QuantumCircuit\n",
    "from qiskit.quantum_info import Statevector\n",
    "import numpy as np\n",
    "\n",
    "# Define the QUBO function\n",
    "def qubo_cost(x):\n",
    "    return x[0] + x[1] + 2 * x[0] * x[1]\n",
    "\n",
    "# Create oracle that marks all bitstrings with cost < threshold\n",
    "def create_threshold_oracle(n, threshold, qubo_fn):\n",
    "    qc = QuantumCircuit(n)\n",
    "    for i in range(2**n):\n",
    "        bits = format(i, f\"0{n}b\")\n",
    "        x = [int(b) for b in bits]\n",
    "        if qubo_fn(x) < threshold:\n",
    "            for j, b in enumerate(bits):\n",
    "                if b == '0':\n",
    "                    qc.x(j)\n",
    "            qc.h(n-1)\n",
    "            qc.mcx(list(range(n-1)), n-1)\n",
    "            qc.h(n-1)\n",
    "            for j, b in enumerate(bits):\n",
    "                if b == '0':\n",
    "                    qc.x(j)\n",
    "    return qc\n",
    "\n",
    "# Diffuser\n",
    "def grover_diffuser(n):\n",
    "    qc = QuantumCircuit(n)\n",
    "    qc.h(range(n))\n",
    "    qc.x(range(n))\n",
    "    qc.h(n-1)\n",
    "    qc.mcx(list(range(n-1)), n-1)\n",
    "    qc.h(n-1)\n",
    "    qc.x(range(n))\n",
    "    qc.h(range(n))\n",
    "    return qc\n",
    "\n",
    "# Run GAS\n",
    "n = 2\n",
    "num_iterations = 3\n",
    "threshold = 999\n",
    "best_solution = None\n",
    "\n",
    "for _ in range(num_iterations):\n",
    "    # Generate all possible bitstrings and evaluate cost\n",
    "    all_states = [format(i, '0' + str(n) + 'b') for i in range(2**n)]\n",
    "    costs = [qubo_cost([int(b) for b in state]) for state in all_states]\n",
    "    \n",
    "    # Find current best\n",
    "    if best_solution is None:\n",
    "        threshold = min(costs)\n",
    "    else:\n",
    "        threshold = min(threshold, qubo_cost(best_solution))\n",
    "\n",
    "    oracle = create_threshold_oracle(n, threshold, qubo_cost)\n",
    "    diffuser = grover_diffuser(n)\n",
    "\n",
    "    qc = QuantumCircuit(n)\n",
    "    qc.h(range(n))\n",
    "    qc.append(oracle, range(n))\n",
    "    qc.append(diffuser, range(n))\n",
    "\n",
    "    sv = Statevector.from_instruction(qc)\n",
    "    probs = sv.probabilities_dict()\n",
    "\n",
    "    # Take the most probable bitstring\n",
    "    best_candidate = max(probs, key=probs.get)\n",
    "    candidate_bits = [int(b) for b in best_candidate]\n",
    "\n",
    "    if best_solution is None or qubo_cost(candidate_bits) < qubo_cost(best_solution):\n",
    "        best_solution = candidate_bits\n",
    "\n",
    "print(\"Best solution found:\", best_solution)\n",
    "print(\"Minimum cost:\", qubo_cost(best_solution))\n"
   ]
  }
 ],
 "metadata": {
  "kernelspec": {
   "display_name": "grover_env",
   "language": "python",
   "name": "python3"
  },
  "language_info": {
   "codemirror_mode": {
    "name": "ipython",
    "version": 3
   },
   "file_extension": ".py",
   "mimetype": "text/x-python",
   "name": "python",
   "nbconvert_exporter": "python",
   "pygments_lexer": "ipython3",
   "version": "3.12.3"
  }
 },
 "nbformat": 4,
 "nbformat_minor": 5
}
