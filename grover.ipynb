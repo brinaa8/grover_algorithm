{
 "cells": [
  {
   "cell_type": "code",
   "execution_count": 11,
   "metadata": {},
   "outputs": [
    {
     "name": "stdout",
     "output_type": "stream",
     "text": [
      "\n",
      "Estado cuántico final (amplitudes de los estados):\n",
      "Statevector([ 0.+0.j,  0.+0.j,  0.+0.j, -1.+0.j],\n",
      "            dims=(2, 2))\n"
     ]
    },
    {
     "data": {
      "image/png": "[encoded data removed]",
      "text/plain": [
       "<Figure size 705.35x200.667 with 1 Axes>"
      ]
     },
     "execution_count": 11,
     "metadata": {},
     "output_type": "execute_result"
    }
   ],
   "source": [
    "from qiskit import QuantumCircuit\n",
    "from qiskit.quantum_info import Statevector\n",
    "\n",
    "grover_circuit = QuantumCircuit(2)\n",
    "grover_circuit.draw(output=\"mpl\")\n",
    "grover_circuit.h([0, 1])\n",
    "grover_circuit.cz(0, 1)\n",
    "grover_circuit.h([0, 1])\n",
    "grover_circuit.x([0, 1])\n",
    "grover_circuit.cz(0, 1)\n",
    "grover_circuit.x([0, 1])\n",
    "grover_circuit.h([0, 1])\n",
    "\n",
    "final_state = Statevector.from_instruction(grover_circuit)\n",
    "\n",
    "# Paso 6: Ver el resultado\n",
    "print(\"\\nEstado cuántico final (amplitudes de los estados):\")\n",
    "print(final_state)\n",
    "grover_circuit.draw(output=\"mpl\")\n",
    "\n"
   ]
  }
 ],
 "metadata": {
  "kernelspec": {
   "display_name": "qiskit-stable",
   "language": "python",
   "name": "python3"
  },
  "language_info": {
   "codemirror_mode": {
    "name": "ipython",
    "version": 3
   },
   "file_extension": ".py",
   "mimetype": "text/x-python",
   "name": "python",
   "nbconvert_exporter": "python",
   "pygments_lexer": "ipython3",
   "version": "3.12.3"
  }
 },
 "nbformat": 4,
 "nbformat_minor": 2
}
